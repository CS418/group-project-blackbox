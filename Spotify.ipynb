{
  "nbformat": 4,
  "nbformat_minor": 0,
  "metadata": {
    "colab": {
      "provenance": [],
      "collapsed_sections": [],
      "include_colab_link": true
    },
    "kernelspec": {
      "name": "python3",
      "display_name": "Python 3"
    },
    "language_info": {
      "name": "python"
    }
  },
  "cells": [
    {
      "cell_type": "markdown",
      "metadata": {
        "id": "view-in-github",
        "colab_type": "text"
      },
      "source": [
        "<a href=\"https://colab.research.google.com/github/CS418/group-project-blackbox/blob/main/Spotify.ipynb\" target=\"_parent\"><img src=\"https://colab.research.google.com/assets/colab-badge.svg\" alt=\"Open In Colab\"/></a>"
      ]
    },
    {
      "cell_type": "markdown",
      "source": [
        "**Project Introduction**\n",
        "Predicting the popularity of songs based purely on song metrics such as key, danceability, and acousticness. Currently, being able to predict that something might be popular beforehand is an important research subject for every industry. It also has recently become a very important subject for the growing and competitive music industry as well. Since wide use of digital music platforms (Spotify, Billboard, Lastfm), data can be easily reached and the listening behaviors of the listeners can be easily observed. This provides convenience in forecasting techniques and it is also frequently used in recommendation systems."
      ],
      "metadata": {
        "id": "a5vGwxaVuLIQ"
      }
    },
    {
      "cell_type": "markdown",
      "source": [
        "**Any changes?**\n",
        "Yes, we are currently focussing on the first hypothesis & trying to understand user’s usability aspects more than data over continents.\n",
        "We are starting with understanding what features make a user end up liking a song.\n",
        "The hypothesis we are trying to gain insight into is \n",
        "Chances of a user liking a song based on his current favorite song.\n"
      ],
      "metadata": {
        "id": "tmOm14vGvPDN"
      }
    },
    {
      "cell_type": "code",
      "execution_count": null,
      "metadata": {
        "colab": {
          "base_uri": "https://localhost:8080/"
        },
        "id": "ve65bqmSixUY",
        "outputId": "c8f470f7-e236-451d-f93d-b812a8f582e4"
      },
      "outputs": [
        {
          "output_type": "stream",
          "name": "stdout",
          "text": [
            "Mounted at /content/gdrive\n"
          ]
        }
      ],
      "source": [
        "from google.colab import drive \n",
        "drive.mount('/content/gdrive')"
      ]
    },
    {
      "cell_type": "markdown",
      "source": [
        "# Data Extraction\n",
        "\n",
        "\n",
        "### Extract Song titles from my Playlist using Spotify API\n",
        "### API :  GET https://api.spotify.com/v1/playlists/{playlist_id}/tracks\n"
      ],
      "metadata": {
        "id": "q-kXPO3Ht4gZ"
      }
    },
    {
      "cell_type": "code",
      "source": [
        "from dataclasses import dataclass\n",
        "import json\n",
        "  \n",
        "f = open('gdrive/My Drive/playlist.json')\n",
        "  \n",
        "data = json.load(f)\n",
        "  \n",
        "len(data['items'])\n",
        "track_ids_names=[]\n",
        "track_ids=[]\n",
        "for d in data['items']:\n",
        "  track_ids_names.append({'id':d['track']['id'],'name':d['track']['name']})\n",
        "  track_ids.append(d['track']['id'])\n",
        "track_ids_names"
      ],
      "metadata": {
        "colab": {
          "base_uri": "https://localhost:8080/"
        },
        "id": "GJdMIvv9RZN5",
        "outputId": "0e2f4ca1-de74-4a8a-c061-152749c29ab3"
      },
      "execution_count": null,
      "outputs": [
        {
          "output_type": "execute_result",
          "data": {
            "text/plain": [
              "[{'id': '7zqt0ygYwyKODlFdQei9JP', 'name': 'Numb - Acoustic'},\n",
              " {'id': '2o4KEc2eSVUytZvTzrmyDB', 'name': 'Let Her Go'},\n",
              " {'id': '095AYlZ56ruP67DLDqq1KG', 'name': 'Bleeding Love - Acoustic'},\n",
              " {'id': '2AMgVizCthD4TDGPzh8mnU', 'name': 'Unstoppable - Acoustic'},\n",
              " {'id': '3LK7SPiHGMXhNgNGj8zCdd', 'name': \"Say You Won't Let Go - Acoustic\"},\n",
              " {'id': '31NgcsBeirPuW7KOM5Em7N', 'name': 'Young Dumb & Broke - Acoustic'},\n",
              " {'id': '0XQl455sLGJYqFRXQLxonl', 'name': \"It'll Be Okay - Acoustic\"},\n",
              " {'id': '0KfTSjLex3EzAQRKlSyEOi', 'name': 'Sunroof - Acoustic'},\n",
              " {'id': '4Dsu3mYLx5yrwYRNC6068w', 'name': 'Sign Of The Times - Acoustic'},\n",
              " {'id': '11WCNXGNBU8KOjSbrmHJpV', 'name': 'Stay - Acoustic'},\n",
              " {'id': '1r7dJi79oGDYcvGGYbG0bn', 'name': 'Young And Beautiful - Acoustic'},\n",
              " {'id': '3bygSayUYIsaqYfP9Wo8U9', 'name': 'Love Song - Acoustic'},\n",
              " {'id': '1IlCOX7DvLFOngKIP5IsTB', 'name': 'Easily - Acoustic'},\n",
              " {'id': '5ii7QwYTHiOk989QnuL3zQ', 'name': 'Runaway - Acoustic'},\n",
              " {'id': '5Ep5Fw8d3M5YzIglXziYCT', 'name': 'Another Love'},\n",
              " {'id': '3xCcrkikNmjyHW25iOYdPv', 'name': 'Somewhere Only We Know - Acoustic'},\n",
              " {'id': '0ChFJc9vE5QDeWiiiG42qs', 'name': 'This Town - Acoustic'},\n",
              " {'id': '6a3CgYaetEpYRcBfZGtJ2T', 'name': 'Everything I Wanted - Acoustic'},\n",
              " {'id': '71gvelZODa6IPVcMohzbJy', 'name': 'Remember'},\n",
              " {'id': '2Q0q9DBUUh3gSppI3lFDfa', 'name': 'Shallow - Acoustic'},\n",
              " {'id': '4c7LEdCGMmO2XwopE85Yq6', 'name': 'Thinking Out Loud - Acoustic'},\n",
              " {'id': '5uSvkBsXTu0wa0RznGd4RA', 'name': 'Love On The Brain - Acoustic'},\n",
              " {'id': '2oicBzPQHEhNSZDmBLldzc', 'name': 'Side To Side'},\n",
              " {'id': '4jxtS6Oj1TWXLzhCjOoIF0', 'name': 'When We Were Young - Acoustic'},\n",
              " {'id': '5Qv4ODTNl25sZFKWExbiX6', 'name': 'Put Your Records On'},\n",
              " {'id': '3YH32bvOBZh59e5iGSqQdC', 'name': 'As The World Falls Down'},\n",
              " {'id': '6SdcWBjCGUbRIQ3TQec0y1', 'name': 'Stitches - Acoustic'},\n",
              " {'id': '13PC8aw9mMm9BKRS4kmC27', 'name': 'Sweater Weather - Acoustic'},\n",
              " {'id': '6hrAQqTyKRZsKSNgDbRTAW', 'name': 'Easy On Me'},\n",
              " {'id': '3bnwdPkTzweJN3PATF1ii1', 'name': 'Video Games - Acoustic'},\n",
              " {'id': '7r5G1KIPIFNToRyjPTYJdK', 'name': 'Photograph'},\n",
              " {'id': '2K0HxZ1TTuDkQY5vH2TyG3', 'name': 'Dancing With Your Ghost'},\n",
              " {'id': '071RglDcLqqXZnAU1NMnGN', 'name': 'abcdefu'},\n",
              " {'id': '6gi4AHTtUVIbIYdEDsU7wl', 'name': 'Your Power - Acoustic'},\n",
              " {'id': '0SB5sFaRBoykhWUDY7JsMJ', 'name': 'Lonely'},\n",
              " {'id': '1c73wEoL5FcNVQEx34dkRu', 'name': 'Where Have You Been'},\n",
              " {'id': '2NDdQfp5SUQ1qULE3UrNDW', 'name': 'I Miss U'},\n",
              " {'id': '5wwaEEhVdMcH1mGq3sP91l', 'name': 'Good Things Fall Apart'},\n",
              " {'id': '2GEGTCOzeAE0f0s8Hc2Rrw', 'name': 'Rather Be'},\n",
              " {'id': '6RZPmMkT2nWGEwUEYN5cdM', 'name': 'Make You Feel My Love - Acoustic'},\n",
              " {'id': '4BQWgPhz4bH51GVR0UAamk', 'name': 'Legends Never Die'},\n",
              " {'id': '4F8HFqcVPlukORphoB2612', 'name': 'Apologize'},\n",
              " {'id': '3vlojUDPUgIvHnbpC8E6jW', 'name': 'Take On Me'},\n",
              " {'id': '1WfWzeNVhuwZbOphiPzmYF', 'name': 'Replay'},\n",
              " {'id': '7dMS31eaCt4xdKXiLjvNv8', 'name': 'Beautiful Now'},\n",
              " {'id': '48JLLOpiLS477qiimSFkhP', 'name': 'Moth To A Flame'},\n",
              " {'id': '1T7x7MCloSjvXJZd67EOH4', 'name': 'Always Remember Us This Way'},\n",
              " {'id': '2wxlAkae5hqSHTqXNW0MU8', 'name': 'You Make Me Feel...'},\n",
              " {'id': '6uRJuT2NPR9gsTyKn2swzy', 'name': 'Promises'},\n",
              " {'id': '1spoXJIAN9H3N6FTwXul7Q', 'name': 'Forever Young'},\n",
              " {'id': '3c1hGypA0Cv0AKOUi37k7P', 'name': 'Creep'},\n",
              " {'id': '64JJ6YbOqeJwdvbhXCwU1Z', 'name': 'Bad Idea'},\n",
              " {'id': '189PM9c2nZHgB6BXq3CyJo', 'name': 'You Are The Reason'},\n",
              " {'id': '0EFYfZ33RMoElX0b5TGJL4', 'name': 'Let Her Go'},\n",
              " {'id': '5bYs9dzH6RbxKthX1zi66l', 'name': 'At My Worst'},\n",
              " {'id': '1wJZye5dHpn3DeQC42nbb2', 'name': 'Without You'},\n",
              " {'id': '1rXeqQDqMQxlujO9eCqu6l', 'name': \"I'm Yours\"},\n",
              " {'id': '7oQFdmXGE8bhz5lqyHlc37', 'name': 'Just Give Me A Reason'},\n",
              " {'id': '3BZEOnzMnCtns5pGu75H1B', 'name': 'Wolves'},\n",
              " {'id': '2j4To1bO0OSZ39hgfYlcpf', 'name': 'Happy For You'},\n",
              " {'id': '084ePGcQ6AsBnM3IxRdQPO', 'name': 'A Thousand Years'},\n",
              " {'id': '6JVCM6RC3erYQ2tXH9xCMy', 'name': 'My Heart Will Go On'},\n",
              " {'id': '73boDt1fqOMT2Zrrr5Fpld', 'name': 'Symphony'},\n",
              " {'id': '3Iwq7U9AcnKTTjYgjQ0kvs', 'name': 'Drivers License'},\n",
              " {'id': '60lIynevu8QWKMFeryp7S3', 'name': 'All Of Me'},\n",
              " {'id': '48iUMNOiVq4kbY0LLuAv5B', 'name': 'Some Say'},\n",
              " {'id': '2vUtc3KUX8CM93AxliBjUP', 'name': 'Save Your Tears'},\n",
              " {'id': '7IOWUiaN6MiFjtDF8TP90k', 'name': 'How Deep Is Your Love'},\n",
              " {'id': '6NWhgybll88xB0SPCrTFHt', 'name': 'Let Me Down Slowly'},\n",
              " {'id': '3r3aslE0ZpJ3jcogqxHUzR', 'name': 'Bitch'},\n",
              " {'id': '24Rq3CETSwRXUi809TMEoe', 'name': 'Comethru'},\n",
              " {'id': '6unMgSYgYXCMLqE56y4Ayw', 'name': 'Be Kind'},\n",
              " {'id': '4Tf7HGOVl5rxen2IbMNF0r', 'name': 'Starships'},\n",
              " {'id': '3LDKsq74QcgmAkgZZlfMNL',\n",
              "  'name': \"Can't Help Falling In Love With You\"},\n",
              " {'id': '2MHTHztHzxWYwslRNp6nsk', 'name': 'Love Yourself'},\n",
              " {'id': '6PrKKjWPWNp8JdF6Q0FGX0', 'name': 'Telepatía'},\n",
              " {'id': '1tkgsrmr4ZHlrLLM3CN28p', 'name': 'Lights'},\n",
              " {'id': '6iYFCLKEzFIphIplqMVoRX', 'name': 'Heatwaves'},\n",
              " {'id': '5uYur8SsgIsc2MvsK3N8Zd', 'name': 'Save Your Tears'},\n",
              " {'id': '40nUqlmTqefy1qx7kJ6D2X', 'name': 'Someone You Loved'},\n",
              " {'id': '6uoXw5MW1YsVgG0Q0HaLi5', 'name': 'Memories'},\n",
              " {'id': '2abddxMxe0UbtbjONcNPwg', 'name': 'Apologize'},\n",
              " {'id': '4Uzo7aO6lfmZbke3Tjjbv6', 'name': \"We Don't Talk Anymore\"},\n",
              " {'id': '5qBIJDZ5VvWiUAZU9eQwcO', 'name': 'Faded'},\n",
              " {'id': '3XYQbIFCFwsCLejCLEmOeK', 'name': 'Death Bed'},\n",
              " {'id': '4Vm1iQwg5r59wpwF6DfIx7', 'name': 'We Found Love'},\n",
              " {'id': '4PUtBSMZdvVtYPmGHdUCqR', 'name': \"I Don't Care\"},\n",
              " {'id': '4Mce5Str2aNcV2kef4678l', 'name': 'Dusk Till Dawn'},\n",
              " {'id': '7s7saZ71WcGcapKy24y5eL', 'name': 'Diamonds'},\n",
              " {'id': '5okZxzPxPsptyC00X9gMba', 'name': 'Need You Now'},\n",
              " {'id': '1WGAZIRqrQXzXtK2DFdQgb', 'name': 'What Is love'},\n",
              " {'id': '7xOtl9O2DvfVikOiYeOjHm', 'name': 'Let You Down'},\n",
              " {'id': '4gOqu5z4n23Swl6Rd1kBs7', 'name': 'Watermelon Sugar'},\n",
              " {'id': '04EwUI5UyfF0KNOz2z7XZA', 'name': 'Radioactive'},\n",
              " {'id': '5mYfZc9XSzH814fGHZJrpy', 'name': 'Closer'},\n",
              " {'id': '3OCFeqbn0X1mm26HHLprqb', 'name': 'Toxic'},\n",
              " {'id': '3COirOtYDsypA6Bg7sCX3A', 'name': 'Everytime We Touch'},\n",
              " {'id': '7wMsc4U3IIFCiW0jgjLfJV', 'name': 'Stereo Love'},\n",
              " {'id': '3dIMb19SJ1gtFgzY7bpC8c', 'name': 'You Broke Me First'},\n",
              " {'id': '3ByjfDIXevJK69tdK3l1by', 'name': 'I Follow Rivers'}]"
            ]
          },
          "metadata": {},
          "execution_count": 25
        }
      ]
    }
  ]
}